{
 "cells": [
  {
   "cell_type": "markdown",
   "id": "b73a43be",
   "metadata": {},
   "source": [
    "## Demo: Part 1 - Benchmarking"
   ]
  },
  {
   "cell_type": "code",
   "execution_count": 1,
   "id": "34f2c6a5",
   "metadata": {},
   "outputs": [],
   "source": [
    "using QuadGK              # numerical ∫\n",
    "using BenchmarkTools"
   ]
  },
  {
   "cell_type": "code",
   "execution_count": 2,
   "id": "4f6f3b5c",
   "metadata": {},
   "outputs": [
    {
     "data": {
      "text/plain": [
       "gauss_overlap (generic function with 1 method)"
      ]
     },
     "metadata": {},
     "output_type": "display_data"
    }
   ],
   "source": [
    "# 1. analytic overlap of two s‑type primitive Gaussians \n",
    "# (centers coincide)\n",
    "# S_G  =  (π / (α + β))^(3/2)\n",
    "gauss_overlap(α, β) = (π / (α + β))^(3/2)"
   ]
  },
  {
   "cell_type": "code",
   "execution_count": 3,
   "id": "295c77f8",
   "metadata": {},
   "outputs": [
    {
     "data": {
      "text/plain": [
       "slater_overlap (generic function with 1 method)"
      ]
     },
     "metadata": {},
     "output_type": "display_data"
    }
   ],
   "source": [
    "# 2. numerical overlap of two Slater 1s functions (centres coincide)\n",
    "#    Normalised STO: χ(r) = (ζ^3/π)^{1/2} * exp(-ζ r)\n",
    "function slater_overlap(ζ1, ζ2)\n",
    "    pref = (ζ1^3 * ζ2^3)^(1/2) / π\n",
    "    integrand(r) = 4π * pref * exp(-(ζ1 + ζ2) * r) * r^2\n",
    "    QuadGK.quadgk(integrand, 0.0, Inf; atol = 1e-12, rtol = 1e-12)[1]\n",
    "end"
   ]
  },
  {
   "cell_type": "code",
   "execution_count": 4,
   "id": "0a9faff5",
   "metadata": {},
   "outputs": [
    {
     "data": {
      "text/plain": [
       "0.75"
      ]
     },
     "metadata": {},
     "output_type": "display_data"
    }
   ],
   "source": [
    "# --- demo parameters ---------------------------------------------------------\n",
    "α  = 1.24     # Gaussian exponent\n",
    "β  = 0.75\n",
    "ζ1 = 1.24     # Slater effective charges\n",
    "ζ2 = 0.75"
   ]
  },
  {
   "cell_type": "code",
   "execution_count": 5,
   "id": "24e3a1e4",
   "metadata": {},
   "outputs": [
    {
     "name": "stdout",
     "output_type": "stream",
     "text": [
      "Single‑shot results:\n",
      "  Gaussian overlap  = 1.9835593267717158\n",
      "  Slater  overlap   = 0.910448072053756\n"
     ]
    }
   ],
   "source": [
    "println(\"Single‑shot results:\")\n",
    "println(\"  Gaussian overlap  = \", gauss_overlap(α, β))\n",
    "println(\"  Slater  overlap   = \", slater_overlap(ζ1, ζ2))"
   ]
  },
  {
   "cell_type": "code",
   "execution_count": 6,
   "id": "e73c5809",
   "metadata": {},
   "outputs": [
    {
     "name": "stdout",
     "output_type": "stream",
     "text": [
      "\n",
      "Timing (100 000 evaluations each):\n",
      "  7.593 ns (0 allocations: 0 bytes)\n",
      "  982.040 ns (3 allocations: 384 bytes)\n"
     ]
    },
    {
     "data": {
      "text/plain": [
       "0.910448072053756"
      ]
     },
     "metadata": {},
     "output_type": "display_data"
    }
   ],
   "source": [
    "println(\"\\nTiming (100 000 evaluations each):\")\n",
    "@btime gauss_overlap($α, $β)        setup=() evals=100000\n",
    "@btime slater_overlap($ζ1, $ζ2)     setup=() evals=100000"
   ]
  },
  {
   "cell_type": "markdown",
   "id": "7308ce83",
   "metadata": {},
   "source": [
    "## Demo: Part 2 - Test"
   ]
  },
  {
   "cell_type": "code",
   "execution_count": 7,
   "id": "c750195a",
   "metadata": {},
   "outputs": [],
   "source": [
    "using BasisSets\n",
    "using OohataHuzinaga"
   ]
  },
  {
   "cell_type": "code",
   "execution_count": 10,
   "id": "7fd0997f",
   "metadata": {},
   "outputs": [
    {
     "data": {
      "text/plain": [
       "Molecule([\"H\", \"H\"], [0.0 0.0 0.0; 0.0 0.0 0.74], [1, 1])"
      ]
     },
     "metadata": {},
     "output_type": "display_data"
    }
   ],
   "source": [
    "mol = molecule(\"/Users/leticiamadureira/Projects/BasisSets.jl/test/data/hydrogen/h-atom.xyz\")"
   ]
  },
  {
   "cell_type": "code",
   "execution_count": null,
   "id": "37ee6081",
   "metadata": {},
   "outputs": [
    {
     "data": {
      "text/plain": [
       "Dict{String, Vector{Tuple{Int64, Int64, Int64}}} with 1 entry:\n",
       "  \"H\" => [(1, 0, 3)]"
      ]
     },
     "metadata": {},
     "output_type": "display_data"
    }
   ],
   "source": [
    "shell_table = Dict(\n",
    "           \"H\" => [(1, 0, 3)])\n"
   ]
  },
  {
   "cell_type": "code",
   "execution_count": 12,
   "id": "23336f0a",
   "metadata": {},
   "outputs": [
    {
     "name": "stdout",
     "output_type": "stream",
     "text": [
      "Optimizing basis for atom: H\n",
      "Optimizing for n=1, l=0, k=3\n",
      "[0.24999999999999997 0.7999999999999999 2.56] ℓ = 0\n",
      " m = 0\n",
      " n = 0\n",
      "Optimizing basis for atom: H\n",
      "Optimizing for n=1, l=0, k=3\n",
      "[0.24999999999999997 0.7999999999999999 2.56] ℓ = 0\n",
      " m = 0\n",
      " n = 0\n"
     ]
    },
    {
     "data": {
      "text/plain": [
       "2-element Vector{BasisSets.GaussianBasisSet}:\n",
       " BasisSets.GaussianBasisSet([0.0 0.0 0.0], [0.24999999999999997 0.7999999999999999 2.56], [0.8000760295486874 0.040527319782266 0.8953541965717289], [0.2519794355383807 0.602875426920206 1.442414455797365], 3, 0, 0, 0)\n",
       " BasisSets.GaussianBasisSet([0.0 0.0 0.74], [0.24999999999999997 0.7999999999999999 2.56], [0.8000760295486874 0.040527319782266 0.8953541965717289], [0.2519794355383807 0.602875426920206 1.442414455797365], 3, 0, 0, 0)"
      ]
     },
     "metadata": {},
     "output_type": "display_data"
    }
   ],
   "source": [
    "basis = BasisSets.optimizebasis(mol, shell_table)"
   ]
  },
  {
   "cell_type": "code",
   "execution_count": 17,
   "id": "293640c5",
   "metadata": {},
   "outputs": [
    {
     "data": {
      "text/plain": [
       "BasisSets.GaussianBasisSet([0.0 0.0 0.0], [0.24999999999999997 0.7999999999999999 2.56], [0.8000760295486874 0.040527319782266 0.8953541965717289], [0.2519794355383807 0.602875426920206 1.442414455797365], 3, 0, 0, 0)"
      ]
     },
     "metadata": {},
     "output_type": "display_data"
    }
   ],
   "source": [
    "basis[1]"
   ]
  },
  {
   "cell_type": "code",
   "execution_count": 13,
   "id": "c63b3645",
   "metadata": {},
   "outputs": [
    {
     "name": "stdout",
     "output_type": "stream",
     "text": [
      "Overlap is done!\n",
      "Kinetic is done!\n",
      "Attraction is done!\n",
      "Repulsion is done!\n",
      "HCore is done!\n",
      "Starting SCF iterations...\n",
      "-1.5791451546041873\n",
      "1.3513513513513513\n",
      "-0.5854539917056862\n",
      "1.3513513513513513\n"
     ]
    },
    {
     "data": {
      "text/plain": [
       "Results(-0.5854539917056862, -1.9368053430570376, 1.3513513513513513, [0.26357151422477454 0.26357151422477454; 0.26357151422477454 0.26357151422477454])"
      ]
     },
     "metadata": {},
     "output_type": "display_data"
    }
   ],
   "source": [
    "res=OohataHuzinaga.rhf(basis,mol)\n"
   ]
  },
  {
   "cell_type": "code",
   "execution_count": 14,
   "id": "bac807b0",
   "metadata": {},
   "outputs": [
    {
     "data": {
      "text/plain": [
       "-1.9368053430570376"
      ]
     },
     "metadata": {},
     "output_type": "display_data"
    }
   ],
   "source": [
    "res.energy"
   ]
  }
 ],
 "metadata": {
  "kernelspec": {
   "display_name": "Julia 1.11.6",
   "language": "julia",
   "name": "julia-1.11"
  },
  "language_info": {
   "file_extension": ".jl",
   "mimetype": "application/julia",
   "name": "julia",
   "version": "1.11.6"
  }
 },
 "nbformat": 4,
 "nbformat_minor": 5
}
