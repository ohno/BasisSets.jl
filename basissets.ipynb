{
 "cells": [
  {
   "cell_type": "code",
   "execution_count": null,
   "id": "ae1bc866",
   "metadata": {},
   "outputs": [],
   "source": [
    "using JSON3"
   ]
  },
  {
   "cell_type": "code",
   "execution_count": null,
   "id": "087d711f",
   "metadata": {},
   "outputs": [],
   "source": [
    "met = JSON3.read(\"src/data/METADATA.json\")\n",
    "imp = met[\"sto-3g\"][\"versions\"][\"1\"][\"file_relpath\"]\n",
    "imp2=JSON3.read(\"src/data/\"*imp)\n",
    "imp2[\"elements\"][\"1\"]\n",
    "imp3=JSON3.read(\"src/data/\"*imp2[\"elements\"][\"1\"])\n",
    "imp4=imp3[\"elements\"][\"1\"][\"components\"]\n",
    "imp5=JSON3.read(\"src/data/\"*imp4[1])"
   ]
  }
 ],
 "metadata": {
  "kernelspec": {
   "display_name": "Julia 1.11.3",
   "language": "julia",
   "name": "julia-1.11"
  },
  "language_info": {
   "file_extension": ".jl",
   "mimetype": "application/julia",
   "name": "julia",
   "version": "1.11.3"
  }
 },
 "nbformat": 4,
 "nbformat_minor": 5
}
