{
 "cells": [
  {
   "cell_type": "code",
   "execution_count": 2,
   "id": "ae1bc866",
   "metadata": {},
   "outputs": [],
   "source": [
    "using JSON3"
   ]
  },
  {
   "cell_type": "code",
   "execution_count": 3,
   "id": "087d711f",
   "metadata": {},
   "outputs": [
    {
     "data": {
      "text/plain": [
       "JSON3.Object{Vector{UInt8}, Vector{UInt64}} with 712 entries:\n",
       "  Symbol(\"2zapa-nr\")          => {…\n",
       "  Symbol(\"2zapa-nr-cv\")       => {…\n",
       "  Symbol(\"3-21g\")             => {…\n",
       "  Symbol(\"3zapa-nr\")          => {…\n",
       "  Symbol(\"3zapa-nr-cv\")       => {…\n",
       "  Symbol(\"4-31g\")             => {…\n",
       "  Symbol(\"4zapa-nr\")          => {…\n",
       "  Symbol(\"4zapa-nr-cv\")       => {…\n",
       "  Symbol(\"5-21g\")             => {…\n",
       "  Symbol(\"5zapa-nr\")          => {…\n",
       "  Symbol(\"5zapa-nr-cv\")       => {…\n",
       "  Symbol(\"6-21g\")             => {…\n",
       "  Symbol(\"6-31++g\")           => {…\n",
       "  Symbol(\"6-31++g_st_\")       => {…\n",
       "  Symbol(\"6-31++g_st__st_\")   => {…\n",
       "  Symbol(\"6-31++g_st__st_-j\") => {…\n",
       "  Symbol(\"6-31+g\")            => {…\n",
       "  Symbol(\"6-31+g_st_\")        => {…\n",
       "  Symbol(\"6-31+g_st_-j\")      => {…\n",
       "  ⋮                           => ⋮"
      ]
     },
     "metadata": {},
     "output_type": "display_data"
    }
   ],
   "source": [
    "met = JSON3.read(\"src/data/METADATA.json\")"
   ]
  },
  {
   "cell_type": "code",
   "execution_count": 4,
   "id": "6908e8c2",
   "metadata": {},
   "outputs": [
    {
     "data": {
      "text/plain": [
       "\"STO-3G.1.table.json\""
      ]
     },
     "metadata": {},
     "output_type": "display_data"
    }
   ],
   "source": [
    "imp = met[\"sto-3g\"][\"versions\"][\"1\"][\"file_relpath\"]"
   ]
  },
  {
   "cell_type": "code",
   "execution_count": 5,
   "id": "f696126d",
   "metadata": {},
   "outputs": [
    {
     "data": {
      "text/plain": [
       "JSON3.Object{Vector{UInt8}, Vector{UInt64}} with 4 entries:\n",
       "  :molssi_bse_schema    => {…\n",
       "  :revision_description => \"Data from Gaussian09\"\n",
       "  :revision_date        => \"2018-06-19\"\n",
       "  :elements             => {…"
      ]
     },
     "metadata": {},
     "output_type": "display_data"
    }
   ],
   "source": [
    "imp2=JSON3.read(\"src/data/\"*imp)"
   ]
  },
  {
   "cell_type": "code",
   "execution_count": 6,
   "id": "f5c0c802",
   "metadata": {},
   "outputs": [
    {
     "data": {
      "text/plain": [
       "\"sto/STO-3G.1.element.json\""
      ]
     },
     "metadata": {},
     "output_type": "display_data"
    }
   ],
   "source": [
    "imp2[\"elements\"][\"1\"]"
   ]
  },
  {
   "cell_type": "code",
   "execution_count": 7,
   "id": "e9f0107b",
   "metadata": {},
   "outputs": [
    {
     "data": {
      "text/plain": [
       "JSON3.Object{Vector{UInt8}, Vector{UInt64}} with 4 entries:\n",
       "  :molssi_bse_schema => {…\n",
       "  :name              => \"STO-3G\"\n",
       "  :description       => \"STO-3G Minimal Basis (3 functions/AO)\"\n",
       "  :elements          => {…"
      ]
     },
     "metadata": {},
     "output_type": "display_data"
    }
   ],
   "source": [
    "imp3=JSON3.read(\"src/data/\"*imp2[\"elements\"][\"1\"])"
   ]
  },
  {
   "cell_type": "code",
   "execution_count": 8,
   "id": "8781e3db",
   "metadata": {},
   "outputs": [
    {
     "data": {
      "text/plain": [
       "1-element JSON3.Array{String, Vector{UInt8}, SubArray{UInt64, 1, Vector{UInt64}, Tuple{UnitRange{Int64}}, true}}:\n",
       " \"sto/STO-3G.1.json\""
      ]
     },
     "metadata": {},
     "output_type": "display_data"
    }
   ],
   "source": [
    "imp4=imp3[\"elements\"][\"1\"][\"components\"]"
   ]
  },
  {
   "cell_type": "code",
   "execution_count": 9,
   "id": "0693393e",
   "metadata": {},
   "outputs": [
    {
     "data": {
      "text/plain": [
       "JSON3.Object{Vector{UInt8}, Vector{UInt64}} with 4 entries:\n",
       "  :molssi_bse_schema => {…\n",
       "  :description       => \"STO-3G Minimal Basis (3 functions/AO)\"\n",
       "  :data_source       => \"TODO\"\n",
       "  :elements          => {…"
      ]
     },
     "metadata": {},
     "output_type": "display_data"
    }
   ],
   "source": [
    "imp5=JSON3.read(\"src/data/\"*imp4[1])"
   ]
  },
  {
   "cell_type": "code",
   "execution_count": null,
   "id": "483e5452",
   "metadata": {},
   "outputs": [],
   "source": [
    "met = JSON3.read(\"src/data/METADATA.json\")\n",
    "imp = met[\"sto-3g\"][\"versions\"][\"1\"][\"file_relpath\"]\n",
    "imp2 = JSON3.read(\"src/data/\" * imp)\n",
    "imp3 = JSON3.read(\"src/data/\" * imp2[\"elements\"][\"1\"])  \n",
    "imp4 = imp3[\"elements\"][\"1\"][\"components\"]\n",
    "data = JSON3.read(\"src/data/\" * imp4[1])"
   ]
  },
  {
   "cell_type": "code",
   "execution_count": 13,
   "id": "a50c49ea",
   "metadata": {},
   "outputs": [
    {
     "ename": "ArgumentError",
     "evalue": "ArgumentError: invalid index: \"angular_momentum\" of type String",
     "output_type": "error",
     "traceback": [
      "ArgumentError: invalid index: \"angular_momentum\" of type String\n",
      "\n",
      "Stacktrace:\n",
      " [1] to_index(i::String)\n",
      "   @ Base ./indices.jl:315\n",
      " [2] to_index(A::JSON3.Array{JSON3.Object, Vector{UInt8}, SubArray{UInt64, 1, Vector{UInt64}, Tuple{UnitRange{Int64}}, true}}, i::String)\n",
      "   @ Base ./indices.jl:292\n",
      " [3] to_indices\n",
      "   @ ./indices.jl:368 [inlined]\n",
      " [4] to_indices\n",
      "   @ ./indices.jl:360 [inlined]\n",
      " [5] getindex(A::JSON3.Array{JSON3.Object, Vector{UInt8}, SubArray{UInt64, 1, Vector{UInt64}, Tuple{UnitRange{Int64}}, true}}, I::String)\n",
      "   @ Base ./abstractarray.jl:1312\n",
      " [6] top-level scope\n",
      "   @ ~/Projects/BasisSets.jl/jl_notebook_cell_df34fa98e69747e1a8f8a730347b8e2f_X11sZmlsZQ==.jl:1"
     ]
    }
   ],
   "source": [
    "imp5[\"elements\"][\"1\"][\"electron_shells\"][\"angular_momentum\"]"
   ]
  },
  {
   "cell_type": "code",
   "execution_count": null,
   "id": "dfd81411",
   "metadata": {},
   "outputs": [],
   "source": []
  }
 ],
 "metadata": {
  "kernelspec": {
   "display_name": "Julia 1.11.5",
   "language": "julia",
   "name": "julia-1.11"
  },
  "language_info": {
   "file_extension": ".jl",
   "mimetype": "application/julia",
   "name": "julia",
   "version": "1.11.5"
  }
 },
 "nbformat": 4,
 "nbformat_minor": 5
}
