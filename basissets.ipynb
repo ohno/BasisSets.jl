{
 "cells": [
  {
   "cell_type": "code",
   "execution_count": null,
   "id": "ae1bc866",
   "metadata": {},
   "outputs": [],
   "source": [
    "using JSON3"
   ]
  },
  {
   "cell_type": "code",
   "execution_count": null,
   "id": "087d711f",
   "metadata": {},
   "outputs": [],
   "source": [
    "met = JSON3.read(\"src/data/METADATA.json\")"
   ]
  },
  {
   "cell_type": "code",
   "execution_count": null,
   "id": "6908e8c2",
   "metadata": {},
   "outputs": [],
   "source": [
    "imp = met[\"sto-3g\"][\"versions\"][\"1\"][\"file_relpath\"]"
   ]
  },
  {
   "cell_type": "code",
   "execution_count": null,
   "id": "f696126d",
   "metadata": {},
   "outputs": [],
   "source": [
    "imp2=JSON3.read(\"src/data/\"*imp)"
   ]
  },
  {
   "cell_type": "code",
   "execution_count": null,
   "id": "f5c0c802",
   "metadata": {},
   "outputs": [],
   "source": [
    "imp2[\"elements\"][\"1\"]"
   ]
  },
  {
   "cell_type": "code",
   "execution_count": null,
   "id": "e9f0107b",
   "metadata": {},
   "outputs": [],
   "source": [
    "imp3=JSON3.read(\"src/data/\"*imp2[\"elements\"][\"1\"])"
   ]
  },
  {
   "cell_type": "code",
   "execution_count": null,
   "id": "8781e3db",
   "metadata": {},
   "outputs": [],
   "source": [
    "imp4=imp3[\"elements\"][\"1\"][\"components\"]"
   ]
  },
  {
   "cell_type": "code",
   "execution_count": null,
   "id": "0693393e",
   "metadata": {},
   "outputs": [],
   "source": [
    "imp5=JSON3.read(\"src/data/\"*imp4[1])"
   ]
  }
 ],
 "metadata": {
  "kernelspec": {
   "display_name": "Julia 1.11.2",
   "language": "julia",
   "name": "julia-1.11"
  },
  "language_info": {
   "file_extension": ".jl",
   "mimetype": "application/julia",
   "name": "julia",
   "version": "1.11.3"
  }
 },
 "nbformat": 4,
 "nbformat_minor": 5
}
